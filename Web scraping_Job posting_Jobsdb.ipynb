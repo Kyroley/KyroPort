{
 "cells": [
  {
   "cell_type": "markdown",
   "metadata": {},
   "source": [
    "Import the required libraries <br>\n"
   ]
  },
  {
   "cell_type": "code",
   "execution_count": 3,
   "metadata": {},
   "outputs": [],
   "source": [
    "#import libraries\n",
    "\n",
    "import pandas as pd\n",
    "from bs4 import BeautifulSoup\n",
    "import html\n",
    "import requests"
   ]
  },
  {
   "cell_type": "markdown",
   "metadata": {},
   "source": [
    "You will extract the data from the below web site <br> \n"
   ]
  },
  {
   "cell_type": "code",
   "execution_count": 18,
   "metadata": {},
   "outputs": [],
   "source": [
    "#define URL\n",
    "\n",
    "url = 'https://sg.jobsdb.com/j?sp=homepage&trigger_source=homepage&q=data+analyst&l=Singapore'"
   ]
  },
  {
   "cell_type": "markdown",
   "metadata": {},
   "source": [
    "Download the webpage at the url\n"
   ]
  },
  {
   "cell_type": "code",
   "execution_count": 19,
   "metadata": {},
   "outputs": [],
   "source": [
    "data = requests.get(url).text"
   ]
  },
  {
   "cell_type": "markdown",
   "metadata": {},
   "source": [
    "Create a soup object\n"
   ]
  },
  {
   "cell_type": "code",
   "execution_count": null,
   "metadata": {},
   "outputs": [],
   "source": [
    "soup = BeautifulSoup(data , 'html')\n",
    "soup"
   ]
  },
  {
   "cell_type": "markdown",
   "metadata": {},
   "source": [
    "Scrape the `Company` , `Job title` and `salary`\n"
   ]
  },
  {
   "cell_type": "code",
   "execution_count": 61,
   "metadata": {},
   "outputs": [],
   "source": [
    "job_title = []          # Create an empty list to store job title\n",
    "job_employer = []       # Create an empty list to store company name\n",
    "job_salary = []         # Create an empty list to store salary\n",
    "\n",
    "for div in soup.find_all('div' , {'class' : 'top-container'}):\n",
    "    job_title.append(div.text.strip())\n",
    "for span in soup.find_all('span' , {'class' : 'job-company'}):\n",
    "    job_employer.append(span.text.strip())\n",
    "for div in soup.find_all('div' , {'class' : 'badges'}):\n",
    "    job_salary.append(div.text.strip())"
   ]
  },
  {
   "cell_type": "markdown",
   "metadata": {},
   "source": [
    "Create Dataframe using Pandas\n"
   ]
  },
  {
   "cell_type": "code",
   "execution_count": null,
   "metadata": {},
   "outputs": [],
   "source": [
    "# Assuming job_employer, job_title, and job_salary are three separate lists of equal length\n",
    "# If not, make sure they have the same length or handle the length discrepancy accordingly\n",
    "\n",
    "job_posting = {\n",
    "    'Employer': job_employer,\n",
    "    'Title': job_title,\n",
    "    'Salary': job_salary\n",
    "    }\n",
    "\n",
    "df = pd.DataFrame(job_posting)\n",
    "df"
   ]
  },
  {
   "cell_type": "code",
   "execution_count": 98,
   "metadata": {},
   "outputs": [],
   "source": [
    "df.to_csv('Job_posting_WebScraping', header=True,index=True)"
   ]
  }
 ],
 "metadata": {
  "kernelspec": {
   "display_name": "Python 3",
   "language": "python",
   "name": "python3"
  },
  "language_info": {
   "codemirror_mode": {
    "name": "ipython",
    "version": 3
   },
   "file_extension": ".py",
   "mimetype": "text/x-python",
   "name": "python",
   "nbconvert_exporter": "python",
   "pygments_lexer": "ipython3",
   "version": "3.11.4"
  }
 },
 "nbformat": 4,
 "nbformat_minor": 2
}
